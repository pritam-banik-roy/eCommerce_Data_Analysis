{
  "nbformat": 4,
  "nbformat_minor": 0,
  "metadata": {
    "colab": {
      "provenance": [],
      "authorship_tag": "ABX9TyPZ7lrCEynjL4Lwxi4a16gS",
      "include_colab_link": true
    },
    "kernelspec": {
      "name": "python3",
      "display_name": "Python 3"
    },
    "language_info": {
      "name": "python"
    }
  },
  "cells": [
    {
      "cell_type": "markdown",
      "metadata": {
        "id": "view-in-github",
        "colab_type": "text"
      },
      "source": [
        "<a href=\"https://colab.research.google.com/github/pritam-banik-roy/eCommerce_Data_Analysis/blob/main/Pritam_Banik_Roy_Lookalike.ipynb\" target=\"_parent\"><img src=\"https://colab.research.google.com/assets/colab-badge.svg\" alt=\"Open In Colab\"/></a>"
      ]
    },
    {
      "cell_type": "markdown",
      "source": [
        "\n",
        "# **Task 2: Lookalike Model**"
      ],
      "metadata": {
        "id": "mVU9q8GrSAz7"
      }
    },
    {
      "cell_type": "markdown",
      "source": [
        "### **Step 1: Load the Required Data**"
      ],
      "metadata": {
        "id": "CVNzvRKzSFkk"
      }
    },
    {
      "cell_type": "code",
      "execution_count": null,
      "metadata": {
        "colab": {
          "base_uri": "https://localhost:8080/"
        },
        "id": "Gzrp-d0LP6Wb",
        "outputId": "41dd147e-1541-4f83-d61d-9e5c617f1eca"
      },
      "outputs": [
        {
          "output_type": "stream",
          "name": "stdout",
          "text": [
            "  CustomerID        CustomerName         Region  SignupDate\n",
            "0      C0001    Lawrence Carroll  South America  2022-07-10\n",
            "1      C0002      Elizabeth Lutz           Asia  2022-02-13\n",
            "2      C0003      Michael Rivera  South America  2024-03-07\n",
            "3      C0004  Kathleen Rodriguez  South America  2022-10-09\n",
            "4      C0005         Laura Weber           Asia  2022-08-15\n",
            "  ProductID              ProductName     Category   Price\n",
            "0      P001     ActiveWear Biography        Books  169.30\n",
            "1      P002    ActiveWear Smartwatch  Electronics  346.30\n",
            "2      P003  ComfortLiving Biography        Books   44.12\n",
            "3      P004            BookWorld Rug   Home Decor   95.69\n",
            "4      P005          TechPro T-Shirt     Clothing  429.31\n",
            "  TransactionID CustomerID ProductID      TransactionDate  Quantity  \\\n",
            "0        T00001      C0199      P067  2024-08-25 12:38:23         1   \n",
            "1        T00112      C0146      P067  2024-05-27 22:23:54         1   \n",
            "2        T00166      C0127      P067  2024-04-25 07:38:55         1   \n",
            "3        T00272      C0087      P067  2024-03-26 22:55:37         2   \n",
            "4        T00363      C0070      P067  2024-03-21 15:10:10         3   \n",
            "\n",
            "   TotalValue   Price  \n",
            "0      300.68  300.68  \n",
            "1      300.68  300.68  \n",
            "2      300.68  300.68  \n",
            "3      601.36  300.68  \n",
            "4      902.04  300.68  \n"
          ]
        }
      ],
      "source": [
        "# Import necessary libraries\n",
        "import pandas as pd\n",
        "import matplotlib.pyplot as plt\n",
        "import seaborn as sns\n",
        "\n",
        "# Load datasets\n",
        "customers = pd.read_csv('/content/Customers.csv')\n",
        "products = pd.read_csv('/content/Products.csv')\n",
        "transactions = pd.read_csv('/content/Transactions.csv')\n",
        "\n",
        "# Preview datasets\n",
        "print(customers.head())\n",
        "print(products.head())\n",
        "print(transactions.head())"
      ]
    },
    {
      "cell_type": "markdown",
      "source": [
        "## **Step 2: Preprocess and Combine Data**"
      ],
      "metadata": {
        "id": "brT8Fwg0SQ4r"
      }
    },
    {
      "cell_type": "markdown",
      "source": [
        "### **Merge datasets to create a unified view:**"
      ],
      "metadata": {
        "id": "OV8jQbyBSX7n"
      }
    },
    {
      "cell_type": "code",
      "source": [
        "# Merge transactions with products\n",
        "merged_data = pd.merge(transactions, products, on='ProductID')\n",
        "\n",
        "# Merge with customers\n",
        "merged_data = pd.merge(merged_data, customers, on='CustomerID')\n",
        "\n",
        "# Preview the combined data\n",
        "print(merged_data.head())\n"
      ],
      "metadata": {
        "colab": {
          "base_uri": "https://localhost:8080/"
        },
        "id": "LmbiZnVBSdfD",
        "outputId": "9c052471-ce4e-4d91-c68f-d03e07e0f805"
      },
      "execution_count": null,
      "outputs": [
        {
          "output_type": "stream",
          "name": "stdout",
          "text": [
            "  TransactionID CustomerID ProductID      TransactionDate  Quantity  \\\n",
            "0        T00001      C0199      P067  2024-08-25 12:38:23         1   \n",
            "1        T00112      C0146      P067  2024-05-27 22:23:54         1   \n",
            "2        T00166      C0127      P067  2024-04-25 07:38:55         1   \n",
            "3        T00272      C0087      P067  2024-03-26 22:55:37         2   \n",
            "4        T00363      C0070      P067  2024-03-21 15:10:10         3   \n",
            "\n",
            "   TotalValue  Price_x                      ProductName     Category  Price_y  \\\n",
            "0      300.68   300.68  ComfortLiving Bluetooth Speaker  Electronics   300.68   \n",
            "1      300.68   300.68  ComfortLiving Bluetooth Speaker  Electronics   300.68   \n",
            "2      300.68   300.68  ComfortLiving Bluetooth Speaker  Electronics   300.68   \n",
            "3      601.36   300.68  ComfortLiving Bluetooth Speaker  Electronics   300.68   \n",
            "4      902.04   300.68  ComfortLiving Bluetooth Speaker  Electronics   300.68   \n",
            "\n",
            "      CustomerName         Region  SignupDate  \n",
            "0   Andrea Jenkins         Europe  2022-12-03  \n",
            "1  Brittany Harvey           Asia  2024-09-04  \n",
            "2  Kathryn Stevens         Europe  2024-04-04  \n",
            "3  Travis Campbell  South America  2024-04-11  \n",
            "4    Timothy Perez         Europe  2022-03-15  \n"
          ]
        }
      ]
    },
    {
      "cell_type": "markdown",
      "source": [
        "### **Aggregate transaction data by customer:**"
      ],
      "metadata": {
        "id": "pYLVOsjCShfU"
      }
    },
    {
      "source": [
        "# Import necessary libraries\n",
        "import pandas as pd\n",
        "import matplotlib.pyplot as plt\n",
        "import seaborn as sns\n",
        "from sklearn.preprocessing import MinMaxScaler # Import MinMaxScaler\n",
        "\n",
        "\n",
        "\n",
        "# Normalize numerical columns for scaling\n",
        "scaler = MinMaxScaler() # Now MinMaxScaler is defined and can be used\n",
        "numerical_cols = ['TotalValue', 'Quantity', 'UniqueProducts']\n",
        "customer_profiles[numerical_cols] = scaler.fit_transform(customer_profiles[numerical_cols])\n",
        "\n"
      ],
      "cell_type": "code",
      "metadata": {
        "id": "Ak1Al9ORSqYf"
      },
      "execution_count": null,
      "outputs": []
    },
    {
      "cell_type": "code",
      "source": [
        "# Aggregate data to create customer profiles\n",
        "customer_profiles = merged_data.groupby('CustomerID').agg({\n",
        "    'TotalValue': 'sum',  # Total revenue per customer\n",
        "    'Quantity': 'sum',    # Total quantity purchased\n",
        "    'ProductID': 'nunique',  # Unique products purchased\n",
        "    'Category': lambda x: x.mode()[0],  # Most common category\n",
        "    'Region': 'first'     # Customer's region\n",
        "}).reset_index()\n",
        "\n",
        "# Rename columns for clarity\n",
        "customer_profiles.rename(columns={'ProductID': 'UniqueProducts'}, inplace=True)\n",
        "\n",
        "# Convert categorical columns to numerical for similarity computation\n",
        "customer_profiles = pd.get_dummies(customer_profiles, columns=['Category', 'Region'])\n",
        "\n",
        "# Normalize numerical columns for scaling\n",
        "scaler = MinMaxScaler()\n",
        "numerical_cols = ['TotalValue', 'Quantity', 'UniqueProducts']\n",
        "customer_profiles[numerical_cols] = scaler.fit_transform(customer_profiles[numerical_cols])\n",
        "\n",
        "# Preview processed customer profiles\n",
        "print(customer_profiles.head())\n"
      ],
      "metadata": {
        "colab": {
          "base_uri": "https://localhost:8080/"
        },
        "id": "tVPHGCHwSjAL",
        "outputId": "2eb78bf3-52e5-4e5e-8618-39cfeb7bcc73"
      },
      "execution_count": null,
      "outputs": [
        {
          "output_type": "stream",
          "name": "stdout",
          "text": [
            "  CustomerID  TotalValue  Quantity  UniqueProducts  Category_Books  \\\n",
            "0      C0001    0.308942  0.354839        0.444444           False   \n",
            "1      C0002    0.168095  0.290323        0.333333           False   \n",
            "2      C0003    0.249541  0.419355        0.333333           False   \n",
            "3      C0004    0.497806  0.709677        0.777778            True   \n",
            "4      C0005    0.184287  0.193548        0.222222           False   \n",
            "\n",
            "   Category_Clothing  Category_Electronics  Category_Home Decor  Region_Asia  \\\n",
            "0              False                  True                False        False   \n",
            "1               True                 False                False         True   \n",
            "2              False                 False                 True        False   \n",
            "3              False                 False                False        False   \n",
            "4              False                  True                False         True   \n",
            "\n",
            "   Region_Europe  Region_North America  Region_South America  \n",
            "0          False                 False                  True  \n",
            "1          False                 False                 False  \n",
            "2          False                 False                  True  \n",
            "3          False                 False                  True  \n",
            "4          False                 False                 False  \n"
          ]
        }
      ]
    },
    {
      "cell_type": "markdown",
      "source": [
        "# **Step 3: Compute Similarity Scores**"
      ],
      "metadata": {
        "id": "DZnijY83S20P"
      }
    },
    {
      "cell_type": "markdown",
      "source": [
        "### **Calculate cosine similarity:**"
      ],
      "metadata": {
        "id": "vmOzQdhrS6Du"
      }
    },
    {
      "source": [
        "# Import necessary libraries\n",
        "import pandas as pd\n",
        "import matplotlib.pyplot as plt\n",
        "import seaborn as sns\n",
        "from sklearn.preprocessing import MinMaxScaler # Import MinMaxScaler\n",
        "from sklearn.metrics.pairwise import cosine_similarity # Import cosine_similarity\n",
        "\n",
        "\n",
        "\n",
        "# Extract numerical features for similarity computation\n",
        "features = customer_profiles.drop(['CustomerID'], axis=1).values\n",
        "\n",
        "# Compute similarity matrix\n",
        "similarity_matrix = cosine_similarity(features)\n",
        "\n",
        "# Convert similarity matrix to a DataFrame for easier interpretation\n",
        "similarity_df = pd.DataFrame(similarity_matrix, index=customer_profiles['CustomerID'], columns=customer_profiles['CustomerID'])\n",
        "\n",
        "# Preview similarity scores\n",
        "print(similarity_df.head())"
      ],
      "cell_type": "code",
      "metadata": {
        "colab": {
          "base_uri": "https://localhost:8080/"
        },
        "id": "GCO2zVOfTDTB",
        "outputId": "74a941f7-9267-4b08-f054-4724971cd551"
      },
      "execution_count": null,
      "outputs": [
        {
          "output_type": "stream",
          "name": "stdout",
          "text": [
            "CustomerID     C0001     C0002     C0003     C0004     C0005     C0006  \\\n",
            "CustomerID                                                               \n",
            "C0001       1.000000  0.130690  0.576407  0.614632  0.540577  0.580150   \n",
            "C0002       0.130690  1.000000  0.120234  0.200947  0.534736  0.121417   \n",
            "C0003       0.576407  0.120234  1.000000  0.598674  0.090151  0.572907   \n",
            "C0004       0.614632  0.200947  0.598674  1.000000  0.150650  0.955345   \n",
            "C0005       0.540577  0.534736  0.090151  0.150650  1.000000  0.095438   \n",
            "\n",
            "CustomerID     C0007     C0008     C0009     C0010  ...     C0191     C0192  \\\n",
            "CustomerID                                          ...                       \n",
            "C0001       0.548131  0.268262  0.065148  0.137588  ...  0.582576  0.991688   \n",
            "C0002       0.538588  0.206157  0.516699  0.553069  ...  0.125291  0.094213   \n",
            "C0003       0.101135  0.586361  0.054697  0.129496  ...  0.572140  0.551349   \n",
            "C0004       0.167459  0.409407  0.097709  0.213431  ...  0.959949  0.557138   \n",
            "C0005       0.999170  0.151168  0.036382  0.078186  ...  0.094383  0.533827   \n",
            "\n",
            "CustomerID     C0193     C0194     C0195     C0196     C0197     C0198  \\\n",
            "CustomerID                                                               \n",
            "C0001       0.147806  0.215477  0.603106  0.152914  0.546044  0.043875   \n",
            "C0002       0.554288  0.163457  0.161910  0.110570  0.081613  0.504143   \n",
            "C0003       0.135913  0.191785  0.987945  0.564885  0.100553  0.038581   \n",
            "C0004       0.586213  0.656589  0.657381  0.231289  0.164960  0.066059   \n",
            "C0005       0.538637  0.122279  0.121764  0.090324  0.530316  0.025085   \n",
            "\n",
            "CustomerID     C0199     C0200  \n",
            "CustomerID                      \n",
            "C0001       0.560149  0.200598  \n",
            "C0002       0.097504  0.977698  \n",
            "C0003       0.115879  0.185679  \n",
            "C0004       0.195182  0.306100  \n",
            "C0005       0.534464  0.539695  \n",
            "\n",
            "[5 rows x 199 columns]\n"
          ]
        }
      ]
    },
    {
      "cell_type": "code",
      "source": [
        "# Extract numerical features for similarity computation\n",
        "features = customer_profiles.drop(['CustomerID'], axis=1).values\n",
        "\n",
        "# Compute similarity matrix\n",
        "similarity_matrix = cosine_similarity(features)\n",
        "\n",
        "# Convert similarity matrix to a DataFrame for easier interpretation\n",
        "similarity_df = pd.DataFrame(similarity_matrix, index=customer_profiles['CustomerID'], columns=customer_profiles['CustomerID'])\n",
        "\n",
        "# Preview similarity scores\n",
        "print(similarity_df.head())\n"
      ],
      "metadata": {
        "colab": {
          "base_uri": "https://localhost:8080/"
        },
        "id": "M0uxelgnS7v3",
        "outputId": "9a1229fb-7c8d-4739-d4aa-2c217ac1f947"
      },
      "execution_count": null,
      "outputs": [
        {
          "output_type": "stream",
          "name": "stdout",
          "text": [
            "CustomerID     C0001     C0002     C0003     C0004     C0005     C0006  \\\n",
            "CustomerID                                                               \n",
            "C0001       1.000000  0.130690  0.576407  0.614632  0.540577  0.580150   \n",
            "C0002       0.130690  1.000000  0.120234  0.200947  0.534736  0.121417   \n",
            "C0003       0.576407  0.120234  1.000000  0.598674  0.090151  0.572907   \n",
            "C0004       0.614632  0.200947  0.598674  1.000000  0.150650  0.955345   \n",
            "C0005       0.540577  0.534736  0.090151  0.150650  1.000000  0.095438   \n",
            "\n",
            "CustomerID     C0007     C0008     C0009     C0010  ...     C0191     C0192  \\\n",
            "CustomerID                                          ...                       \n",
            "C0001       0.548131  0.268262  0.065148  0.137588  ...  0.582576  0.991688   \n",
            "C0002       0.538588  0.206157  0.516699  0.553069  ...  0.125291  0.094213   \n",
            "C0003       0.101135  0.586361  0.054697  0.129496  ...  0.572140  0.551349   \n",
            "C0004       0.167459  0.409407  0.097709  0.213431  ...  0.959949  0.557138   \n",
            "C0005       0.999170  0.151168  0.036382  0.078186  ...  0.094383  0.533827   \n",
            "\n",
            "CustomerID     C0193     C0194     C0195     C0196     C0197     C0198  \\\n",
            "CustomerID                                                               \n",
            "C0001       0.147806  0.215477  0.603106  0.152914  0.546044  0.043875   \n",
            "C0002       0.554288  0.163457  0.161910  0.110570  0.081613  0.504143   \n",
            "C0003       0.135913  0.191785  0.987945  0.564885  0.100553  0.038581   \n",
            "C0004       0.586213  0.656589  0.657381  0.231289  0.164960  0.066059   \n",
            "C0005       0.538637  0.122279  0.121764  0.090324  0.530316  0.025085   \n",
            "\n",
            "CustomerID     C0199     C0200  \n",
            "CustomerID                      \n",
            "C0001       0.560149  0.200598  \n",
            "C0002       0.097504  0.977698  \n",
            "C0003       0.115879  0.185679  \n",
            "C0004       0.195182  0.306100  \n",
            "C0005       0.534464  0.539695  \n",
            "\n",
            "[5 rows x 199 columns]\n"
          ]
        }
      ]
    },
    {
      "cell_type": "markdown",
      "source": [
        "# **Step 4: Find Top 3 Lookalikes**"
      ],
      "metadata": {
        "id": "tIlV3hy7TTA9"
      }
    },
    {
      "cell_type": "markdown",
      "source": [
        "### **Identify top 3 similar customers for each target customer:**"
      ],
      "metadata": {
        "id": "mh9m9OmCTWSp"
      }
    },
    {
      "cell_type": "code",
      "source": [
        "# Define a function to get top 3 similar customers\n",
        "def get_top_lookalikes(similarity_df, customer_id, top_n=3):\n",
        "    similar_customers = similarity_df[customer_id].sort_values(ascending=False).iloc[1:top_n+1]\n",
        "    return [(cust_id, round(score, 4)) for cust_id, score in similar_customers.items()]\n",
        "\n",
        "# Create a dictionary to store lookalikes for the first 20 customers\n",
        "lookalikes = {}\n",
        "for customer_id in customer_profiles['CustomerID'][:20]:\n",
        "    lookalikes[customer_id] = get_top_lookalikes(similarity_df, customer_id)\n",
        "\n",
        "# Preview lookalikes\n",
        "print(lookalikes)\n"
      ],
      "metadata": {
        "colab": {
          "base_uri": "https://localhost:8080/"
        },
        "id": "6meHItnQTRsF",
        "outputId": "d7ce4b43-506a-42d7-9840-aeda8e18f590"
      },
      "execution_count": null,
      "outputs": [
        {
          "output_type": "stream",
          "name": "stdout",
          "text": [
            "{'C0001': [('C0048', 0.9996), ('C0190', 0.9989), ('C0184', 0.9975)], 'C0002': [('C0088', 0.9974), ('C0092', 0.9945), ('C0106', 0.994)], 'C0003': [('C0031', 0.9957), ('C0076', 0.9951), ('C0052', 0.9941)], 'C0004': [('C0087', 0.9959), ('C0155', 0.9941), ('C0169', 0.9927)], 'C0005': [('C0186', 0.9998), ('C0007', 0.9992), ('C0115', 0.9973)], 'C0006': [('C0168', 0.9988), ('C0187', 0.9972), ('C0011', 0.9969)], 'C0007': [('C0115', 0.9994), ('C0005', 0.9992), ('C0186', 0.9984)], 'C0008': [('C0065', 0.984), ('C0059', 0.9828), ('C0160', 0.9553)], 'C0009': [('C0198', 0.997), ('C0061', 0.9945), ('C0062', 0.9896)], 'C0010': [('C0111', 0.9947), ('C0103', 0.9905), ('C0061', 0.9888)], 'C0011': [('C0137', 0.999), ('C0174', 0.9986), ('C0191', 0.9983)], 'C0012': [('C0195', 0.9974), ('C0163', 0.9974), ('C0113', 0.9968)], 'C0013': [('C0108', 0.9977), ('C0099', 0.9975), ('C0107', 0.9813)], 'C0014': [('C0060', 0.9999), ('C0089', 0.9801), ('C0166', 0.9469)], 'C0015': [('C0131', 0.9937), ('C0036', 0.9922), ('C0094', 0.9828)], 'C0016': [('C0183', 0.9992), ('C0067', 0.9951), ('C0030', 0.9948)], 'C0017': [('C0041', 0.9948), ('C0075', 0.9935), ('C0057', 0.9907)], 'C0018': [('C0046', 0.9921), ('C0122', 0.9918), ('C0117', 0.9911)], 'C0019': [('C0081', 0.9953), ('C0064', 0.9905), ('C0135', 0.9883)], 'C0020': [('C0050', 0.973), ('C0035', 0.9577), ('C0026', 0.9438)]}\n"
          ]
        }
      ]
    },
    {
      "cell_type": "markdown",
      "source": [
        "# **Step 5: Save Results to CSV**"
      ],
      "metadata": {
        "id": "1YJlC-HCTcQZ"
      }
    },
    {
      "cell_type": "markdown",
      "source": [
        "**# Save the lookalikes to the required format:**"
      ],
      "metadata": {
        "id": "co86EuNATfG2"
      }
    },
    {
      "cell_type": "code",
      "source": [
        "# Convert lookalikes dictionary to a DataFrame\n",
        "lookalike_list = []\n",
        "for cust_id, similar in lookalikes.items():\n",
        "    lookalike_list.append({'cust_id': cust_id, 'lookalikes': similar})\n",
        "\n",
        "lookalike_df = pd.DataFrame(lookalike_list)\n",
        "\n",
        "# Save to CSV\n",
        "lookalike_df.to_csv('Lookalike.csv', index=False)\n",
        "\n",
        "print(\"Lookalike.csv created successfully.\")\n"
      ],
      "metadata": {
        "colab": {
          "base_uri": "https://localhost:8080/"
        },
        "id": "8Io1QxeCTrVn",
        "outputId": "f15b03d3-ab32-4431-a48c-08a7a5c6b6fe"
      },
      "execution_count": null,
      "outputs": [
        {
          "output_type": "stream",
          "name": "stdout",
          "text": [
            "Lookalike.csv created successfully.\n"
          ]
        }
      ]
    },
    {
      "cell_type": "code",
      "source": [
        "# Plot heatmap of similarity scores\n",
        "sns.heatmap(similarity_matrix[:20, :20], xticklabels=customer_profiles['CustomerID'][:20], yticklabels=customer_profiles['CustomerID'][:20], cmap='coolwarm')\n",
        "plt.title('Customer Similarity Heatmap')\n",
        "plt.show()\n"
      ],
      "metadata": {
        "colab": {
          "base_uri": "https://localhost:8080/",
          "height": 483
        },
        "id": "k7Z6qkY5UAL0",
        "outputId": "9158f2bb-141f-4acd-dfd3-5140be5af35d"
      },
      "execution_count": null,
      "outputs": [
        {
          "output_type": "display_data",
          "data": {
            "text/plain": [
              "<Figure size 640x480 with 2 Axes>"
            ],
            "image/png": "[encoded data removed]"
          },
          "metadata": {}
        }
      ]
    }
  ]
}